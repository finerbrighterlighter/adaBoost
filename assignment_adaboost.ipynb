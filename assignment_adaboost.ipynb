{
  "nbformat": 4,
  "nbformat_minor": 0,
  "metadata": {
    "colab": {
      "name": "assignment_adaboost.ipynb",
      "provenance": []
    },
    "kernelspec": {
      "name": "python3",
      "display_name": "Python 3"
    }
  },
  "cells": [
    {
      "cell_type": "code",
      "metadata": {
        "id": "XUxJBEDteVR6",
        "colab_type": "code",
        "colab": {}
      },
      "source": [
        "import numpy as np\n",
        "import pandas as pd\n",
        "from sklearn import svm\n",
        "from sklearn.ensemble import AdaBoostClassifier\n",
        "from sklearn.metrics import confusion_matrix"
      ],
      "execution_count": 0,
      "outputs": []
    },
    {
      "cell_type": "code",
      "metadata": {
        "id": "cmLd8OcxJmy-",
        "colab_type": "code",
        "colab": {}
      },
      "source": [
        "# train from example 03\n",
        "X_train_a = pd.read_csv(\"example03-data.csv\",header=None)\n",
        "y_train_a = pd.read_csv(\"example03-class.csv\", header=None) "
      ],
      "execution_count": 0,
      "outputs": []
    },
    {
      "cell_type": "markdown",
      "metadata": {
        "id": "lKdrt6nGgfIv",
        "colab_type": "text"
      },
      "source": [
        "The test sets will be half of example04 for all models. <br>\n",
        "Preparing them ahead."
      ]
    },
    {
      "cell_type": "code",
      "metadata": {
        "id": "iP9aFVeIekyQ",
        "colab_type": "code",
        "colab": {}
      },
      "source": [
        "# example 04\n",
        "X = pd.read_csv(\"example04-data.csv\", header=None)\n",
        "y = pd.read_csv(\"example04-class.csv\", header=None)"
      ],
      "execution_count": 0,
      "outputs": []
    },
    {
      "cell_type": "code",
      "metadata": {
        "id": "xbNva0fCe6EY",
        "colab_type": "code",
        "colab": {}
      },
      "source": [
        "# splitting half\n",
        "from sklearn.model_selection import train_test_split\n",
        "X_train_b, X_test, y_train_b, y_test = train_test_split(\n",
        "    X, y, test_size=0.5, random_state=42)"
      ],
      "execution_count": 0,
      "outputs": []
    },
    {
      "cell_type": "code",
      "metadata": {
        "id": "57F_Y5DOe_5V",
        "colab_type": "code",
        "colab": {}
      },
      "source": [
        "# make array\n",
        "\n",
        "# a - eg3\n",
        "X_train_a = np.asarray(X_train_a)\n",
        "y_train_a = np.asarray(y_train_a)\n",
        "\n",
        "# b - 50% of eg4\n",
        "X_train_b = np.asarray(X_train_b)\n",
        "y_train_b = np.asarray(y_train_b)\n",
        "\n",
        "# shared - 50% of eg4\n",
        "X_test = np.asarray(X_test)\n",
        "y_test = np.asarray(y_test)"
      ],
      "execution_count": 0,
      "outputs": []
    },
    {
      "cell_type": "markdown",
      "metadata": {
        "id": "dmAaRqpQf_C3",
        "colab_type": "text"
      },
      "source": [
        "### A"
      ]
    },
    {
      "cell_type": "markdown",
      "metadata": {
        "id": "z6f_h-HvNaqy",
        "colab_type": "text"
      },
      "source": [
        "#### Decision Tree"
      ]
    },
    {
      "cell_type": "code",
      "metadata": {
        "id": "qn18A7e-K1tS",
        "colab_type": "code",
        "colab": {}
      },
      "source": [
        "# boosted decision classifier\n",
        "mod1 = AdaBoostClassifier(n_estimators= 50, random_state=0)"
      ],
      "execution_count": 0,
      "outputs": []
    },
    {
      "cell_type": "code",
      "metadata": {
        "id": "KG8uJaRfLFg4",
        "colab_type": "code",
        "outputId": "fafb08d7-4e06-4b7c-9b19-96c9621e7fc8",
        "colab": {
          "base_uri": "https://localhost:8080/",
          "height": 105
        }
      },
      "source": [
        "# train\n",
        "mod1.fit(X_train_a, y_train_a)"
      ],
      "execution_count": 7,
      "outputs": [
        {
          "output_type": "stream",
          "text": [
            "/usr/local/lib/python3.6/dist-packages/sklearn/utils/validation.py:760: DataConversionWarning: A column-vector y was passed when a 1d array was expected. Please change the shape of y to (n_samples, ), for example using ravel().\n",
            "  y = column_or_1d(y, warn=True)\n"
          ],
          "name": "stderr"
        },
        {
          "output_type": "execute_result",
          "data": {
            "text/plain": [
              "AdaBoostClassifier(algorithm='SAMME.R', base_estimator=None, learning_rate=1.0,\n",
              "                   n_estimators=50, random_state=0)"
            ]
          },
          "metadata": {
            "tags": []
          },
          "execution_count": 7
        }
      ]
    },
    {
      "cell_type": "code",
      "metadata": {
        "id": "-ikCEXeuMJv0",
        "colab_type": "code",
        "colab": {}
      },
      "source": [
        "# predict\n",
        "y_pred = mod1.predict(X_test)"
      ],
      "execution_count": 0,
      "outputs": []
    },
    {
      "cell_type": "code",
      "metadata": {
        "id": "HJAfl2dJMTpY",
        "colab_type": "code",
        "outputId": "9bfbb41d-b396-4e5a-c264-c1519e94d4c3",
        "colab": {
          "base_uri": "https://localhost:8080/",
          "height": 68
        }
      },
      "source": [
        "# Plot confusion matrix\n",
        "cm = confusion_matrix(y_test,y_pred, labels=[1,-1])\n",
        "\n",
        "total = len(y_test)\n",
        "\n",
        "# from confusion matrix calculate accuracy\n",
        "accuracy=(cm[0,0]+cm[1,1])/total\n",
        "print ('Accuracy : ', accuracy)\n",
        "\n",
        "sensitivity = cm[0,0]/(cm[0,0]+cm[0,1])\n",
        "print('Sensitivity : ', sensitivity)\n",
        "\n",
        "specificity = cm[1,1]/(cm[1,0]+cm[1,1])\n",
        "print('Specificity : ', specificity)"
      ],
      "execution_count": 9,
      "outputs": [
        {
          "output_type": "stream",
          "text": [
            "Accuracy :  0.6\n",
            "Sensitivity :  0.6666666666666666\n",
            "Specificity :  0.5\n"
          ],
          "name": "stdout"
        }
      ]
    },
    {
      "cell_type": "markdown",
      "metadata": {
        "id": "KR_OJeK1NhTf",
        "colab_type": "text"
      },
      "source": [
        "#### Support Vector Machine"
      ]
    },
    {
      "cell_type": "code",
      "metadata": {
        "id": "BptG2rLMNmdg",
        "colab_type": "code",
        "colab": {}
      },
      "source": [
        "# support vector classifier\n",
        "mod2 = AdaBoostClassifier(svm.SVC(gamma=\"scale\"), algorithm=\"SAMME\",\n",
        "                         n_estimators=50, random_state=0, learning_rate=1.0)"
      ],
      "execution_count": 0,
      "outputs": []
    },
    {
      "cell_type": "code",
      "metadata": {
        "id": "B2_RKXaLOZSQ",
        "colab_type": "code",
        "outputId": "a1b54581-1934-4772-9204-2419ff61252d",
        "colab": {
          "base_uri": "https://localhost:8080/",
          "height": 224
        }
      },
      "source": [
        "# train\n",
        "mod2.fit(X_train_a, y_train_a)"
      ],
      "execution_count": 11,
      "outputs": [
        {
          "output_type": "stream",
          "text": [
            "/usr/local/lib/python3.6/dist-packages/sklearn/utils/validation.py:760: DataConversionWarning: A column-vector y was passed when a 1d array was expected. Please change the shape of y to (n_samples, ), for example using ravel().\n",
            "  y = column_or_1d(y, warn=True)\n"
          ],
          "name": "stderr"
        },
        {
          "output_type": "execute_result",
          "data": {
            "text/plain": [
              "AdaBoostClassifier(algorithm='SAMME',\n",
              "                   base_estimator=SVC(C=1.0, break_ties=False, cache_size=200,\n",
              "                                      class_weight=None, coef0=0.0,\n",
              "                                      decision_function_shape='ovr', degree=3,\n",
              "                                      gamma='scale', kernel='rbf', max_iter=-1,\n",
              "                                      probability=False, random_state=None,\n",
              "                                      shrinking=True, tol=0.001,\n",
              "                                      verbose=False),\n",
              "                   learning_rate=1.0, n_estimators=50, random_state=0)"
            ]
          },
          "metadata": {
            "tags": []
          },
          "execution_count": 11
        }
      ]
    },
    {
      "cell_type": "code",
      "metadata": {
        "colab_type": "code",
        "id": "_AXqAwcLlB6Q",
        "colab": {}
      },
      "source": [
        "# predict\n",
        "y_pred = mod2.predict(X_test)"
      ],
      "execution_count": 0,
      "outputs": []
    },
    {
      "cell_type": "code",
      "metadata": {
        "colab_type": "code",
        "outputId": "190f4095-6000-4c76-9d5b-7745d2089f74",
        "id": "8A7qBrLLlB6a",
        "colab": {
          "base_uri": "https://localhost:8080/",
          "height": 68
        }
      },
      "source": [
        "# Plot confusion matrix\n",
        "cm = confusion_matrix(y_test,y_pred, labels=[1,-1])\n",
        "\n",
        "total = len(y_test)\n",
        "\n",
        "# from confusion matrix calculate accuracy\n",
        "accuracy=(cm[0,0]+cm[1,1])/total\n",
        "print ('Accuracy : ', accuracy)\n",
        "\n",
        "sensitivity = cm[0,0]/(cm[0,0]+cm[0,1])\n",
        "print('Sensitivity : ', sensitivity)\n",
        "\n",
        "specificity = cm[1,1]/(cm[1,0]+cm[1,1])\n",
        "print('Specificity : ', specificity)"
      ],
      "execution_count": 13,
      "outputs": [
        {
          "output_type": "stream",
          "text": [
            "Accuracy :  0.6\n",
            "Sensitivity :  0.6666666666666666\n",
            "Specificity :  0.5\n"
          ],
          "name": "stdout"
        }
      ]
    },
    {
      "cell_type": "markdown",
      "metadata": {
        "id": "ytu1sljRgEkS",
        "colab_type": "text"
      },
      "source": [
        "### B"
      ]
    },
    {
      "cell_type": "markdown",
      "metadata": {
        "colab_type": "text",
        "id": "U2bjsiF1hMRp"
      },
      "source": [
        "#### Decision Tree"
      ]
    },
    {
      "cell_type": "code",
      "metadata": {
        "colab_type": "code",
        "id": "xfVfsttchMRy",
        "colab": {}
      },
      "source": [
        "# boosted decision classifier\n",
        "mod3 = AdaBoostClassifier(n_estimators= 50, random_state=0)"
      ],
      "execution_count": 0,
      "outputs": []
    },
    {
      "cell_type": "code",
      "metadata": {
        "colab_type": "code",
        "outputId": "098fb8db-1bbd-4e83-ce4d-6bb9b280e864",
        "id": "V6XkmZb5hMR9",
        "colab": {
          "base_uri": "https://localhost:8080/",
          "height": 105
        }
      },
      "source": [
        "# train\n",
        "mod3.fit(X_train_b, y_train_b)"
      ],
      "execution_count": 15,
      "outputs": [
        {
          "output_type": "stream",
          "text": [
            "/usr/local/lib/python3.6/dist-packages/sklearn/utils/validation.py:760: DataConversionWarning: A column-vector y was passed when a 1d array was expected. Please change the shape of y to (n_samples, ), for example using ravel().\n",
            "  y = column_or_1d(y, warn=True)\n"
          ],
          "name": "stderr"
        },
        {
          "output_type": "execute_result",
          "data": {
            "text/plain": [
              "AdaBoostClassifier(algorithm='SAMME.R', base_estimator=None, learning_rate=1.0,\n",
              "                   n_estimators=50, random_state=0)"
            ]
          },
          "metadata": {
            "tags": []
          },
          "execution_count": 15
        }
      ]
    },
    {
      "cell_type": "code",
      "metadata": {
        "colab_type": "code",
        "id": "GuWgaKCDlHGB",
        "colab": {}
      },
      "source": [
        "# predict\n",
        "y_pred = mod3.predict(X_test)"
      ],
      "execution_count": 0,
      "outputs": []
    },
    {
      "cell_type": "code",
      "metadata": {
        "colab_type": "code",
        "outputId": "c75e95b3-3982-4eea-cdf6-f90ab8715f76",
        "id": "n2Xko3B4lHGL",
        "colab": {
          "base_uri": "https://localhost:8080/",
          "height": 68
        }
      },
      "source": [
        "# Plot confusion matrix\n",
        "cm = confusion_matrix(y_test,y_pred, labels=[1,-1])\n",
        "\n",
        "total = len(y_test)\n",
        "\n",
        "# from confusion matrix calculate accuracy\n",
        "accuracy=(cm[0,0]+cm[1,1])/total\n",
        "print ('Accuracy : ', accuracy)\n",
        "\n",
        "sensitivity = cm[0,0]/(cm[0,0]+cm[0,1])\n",
        "print('Sensitivity : ', sensitivity)\n",
        "\n",
        "specificity = cm[1,1]/(cm[1,0]+cm[1,1])\n",
        "print('Specificity : ', specificity)"
      ],
      "execution_count": 17,
      "outputs": [
        {
          "output_type": "stream",
          "text": [
            "Accuracy :  0.2\n",
            "Sensitivity :  0.0\n",
            "Specificity :  0.5\n"
          ],
          "name": "stdout"
        }
      ]
    },
    {
      "cell_type": "markdown",
      "metadata": {
        "colab_type": "text",
        "id": "ugSMa6TrhMSW"
      },
      "source": [
        "#### Support Vector Machine"
      ]
    },
    {
      "cell_type": "code",
      "metadata": {
        "colab_type": "code",
        "id": "uWh_rWcNhMSX",
        "colab": {}
      },
      "source": [
        "# support vector classifier\n",
        "mod4 = AdaBoostClassifier(svm.SVC(gamma=\"scale\"), algorithm=\"SAMME\",\n",
        "                         n_estimators=50, random_state=0, learning_rate=1.0)"
      ],
      "execution_count": 0,
      "outputs": []
    },
    {
      "cell_type": "code",
      "metadata": {
        "colab_type": "code",
        "outputId": "3cda1dda-ca24-41ef-e40c-a6b58c277ef0",
        "id": "7xFeeAPEhMSd",
        "colab": {
          "base_uri": "https://localhost:8080/",
          "height": 224
        }
      },
      "source": [
        "# train\n",
        "mod4.fit(X_train_b, y_train_b)"
      ],
      "execution_count": 19,
      "outputs": [
        {
          "output_type": "stream",
          "text": [
            "/usr/local/lib/python3.6/dist-packages/sklearn/utils/validation.py:760: DataConversionWarning: A column-vector y was passed when a 1d array was expected. Please change the shape of y to (n_samples, ), for example using ravel().\n",
            "  y = column_or_1d(y, warn=True)\n"
          ],
          "name": "stderr"
        },
        {
          "output_type": "execute_result",
          "data": {
            "text/plain": [
              "AdaBoostClassifier(algorithm='SAMME',\n",
              "                   base_estimator=SVC(C=1.0, break_ties=False, cache_size=200,\n",
              "                                      class_weight=None, coef0=0.0,\n",
              "                                      decision_function_shape='ovr', degree=3,\n",
              "                                      gamma='scale', kernel='rbf', max_iter=-1,\n",
              "                                      probability=False, random_state=None,\n",
              "                                      shrinking=True, tol=0.001,\n",
              "                                      verbose=False),\n",
              "                   learning_rate=1.0, n_estimators=50, random_state=0)"
            ]
          },
          "metadata": {
            "tags": []
          },
          "execution_count": 19
        }
      ]
    },
    {
      "cell_type": "code",
      "metadata": {
        "colab_type": "code",
        "id": "9OYo8hJdlNd3",
        "colab": {}
      },
      "source": [
        "# predict\n",
        "y_pred = mod4.predict(X_test)"
      ],
      "execution_count": 0,
      "outputs": []
    },
    {
      "cell_type": "code",
      "metadata": {
        "colab_type": "code",
        "outputId": "c2dc81f2-f6f9-41ad-ec0b-719c0bc04850",
        "id": "44MBBjPvlNeB",
        "colab": {
          "base_uri": "https://localhost:8080/",
          "height": 68
        }
      },
      "source": [
        "# Plot confusion matrix\n",
        "cm = confusion_matrix(y_test,y_pred, labels=[1,-1])\n",
        "\n",
        "total = len(y_test)\n",
        "\n",
        "# from confusion matrix calculate accuracy\n",
        "accuracy=(cm[0,0]+cm[1,1])/total\n",
        "print ('Accuracy : ', accuracy)\n",
        "\n",
        "sensitivity = cm[0,0]/(cm[0,0]+cm[0,1])\n",
        "print('Sensitivity : ', sensitivity)\n",
        "\n",
        "specificity = cm[1,1]/(cm[1,0]+cm[1,1])\n",
        "print('Specificity : ', specificity)"
      ],
      "execution_count": 21,
      "outputs": [
        {
          "output_type": "stream",
          "text": [
            "Accuracy :  0.4\n",
            "Sensitivity :  0.0\n",
            "Specificity :  1.0\n"
          ],
          "name": "stdout"
        }
      ]
    },
    {
      "cell_type": "markdown",
      "metadata": {
        "id": "k36XAm-2i5Cx",
        "colab_type": "text"
      },
      "source": [
        "#### Comparison between Models"
      ]
    },
    {
      "cell_type": "markdown",
      "metadata": {
        "id": "CZNhrGRmh-TW",
        "colab_type": "text"
      },
      "source": [
        "Model | Train Set | Train Size | Accuracy | Sensitivity | Specificity\n",
        "-|-|-|-|-|-\n",
        " Decision Tree | example03 | 10 | 0.60 | 0.67 | 0.5\n",
        " Support Vector Classifier | example03 | 10 | 0.60 | 0.67 | 0.5\n",
        " Decision Tree | example04 | 5 | 0.20 | 0.0 | 0.5\n",
        " Support Vector Classifier | example04 | 5 | 0.40 | 0.0 | 1.0"
      ]
    }
  ]
}